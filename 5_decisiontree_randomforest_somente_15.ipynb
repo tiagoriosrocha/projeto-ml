{
 "cells": [
  {
   "cell_type": "markdown",
   "id": "41a01e21",
   "metadata": {},
   "source": [
    "# Classificação com Árvores de Decisão e Random Forest usando Pipeline"
   ]
  },
  {
   "cell_type": "code",
   "id": "dfca7471",
   "metadata": {
    "ExecuteTime": {
     "end_time": "2025-05-19T18:38:27.059094Z",
     "start_time": "2025-05-19T18:38:26.792401Z"
    }
   },
   "source": [
    "# Importação de bibliotecas\n",
    "import os\n",
    "import pandas as pd\n",
    "import numpy as np\n",
    "from sklearn.model_selection import train_test_split, GridSearchCV\n",
    "from sklearn.metrics import classification_report, confusion_matrix, ConfusionMatrixDisplay\n",
    "from sklearn.preprocessing import StandardScaler\n",
    "from imblearn.pipeline import Pipeline\n",
    "from sklearn.decomposition import PCA\n",
    "\n",
    "from sklearn.tree import DecisionTreeClassifier\n",
    "from sklearn.ensemble import RandomForestClassifier\n",
    "\n",
    "import matplotlib.pyplot as plt\n",
    "import seaborn as sns\n",
    "from imblearn.under_sampling import RandomUnderSampler\n",
    "\n",
    "\n",
    "path = \"/content/drive/MyDrive/ml-project/data\" #pasta do projeto\n",
    "FILE = \"smart-contract-dataset.csv\" #nome do arquivo\n",
    "SEED = 78 #seed para usar nas divisões de dados\n",
    "CV_FOLDS = 5 #folds para cross validation\n",
    "SCORING_METRIC = 'precision' #qual estimativa priorizar\n"
   ],
   "outputs": [],
   "execution_count": 1
  },
  {
   "cell_type": "markdown",
   "id": "0d0c32c0",
   "metadata": {},
   "source": [
    "## Carregamento dos dados\n",
    "\n",
    "Estou filtrando apenas as 15 feactures mais importantes segundo índice Gini"
   ]
  },
  {
   "cell_type": "code",
   "id": "e73a1e99",
   "metadata": {
    "ExecuteTime": {
     "end_time": "2025-05-19T18:38:27.916775Z",
     "start_time": "2025-05-19T18:38:27.194137Z"
    }
   },
   "source": [
    "data = pd.read_csv(os.path.join(FILE))  # Carrega os dados\n",
    "numeric_data = data.iloc[:, 3:].select_dtypes(include=\"number\")\n",
    "\n",
    "# Lista de colunas desejadas\n",
    "selected_columns = [\n",
    "    'emit',\n",
    "    'ast_id',\n",
    "    'Weight bytecode_character_5',\n",
    "    'internal',\n",
    "    'require',\n",
    "    'from',\n",
    "    'will',\n",
    "    'string',\n",
    "    'bytecode_entropy',\n",
    "    'external',\n",
    "    'length',\n",
    "    'Opcode weight LT',\n",
    "    'ast_len_nodes',\n",
    "    'mapping',\n",
    "    'can'\n",
    "]\n",
    "\n",
    "\n",
    "# Filtra apenas as colunas desejadas\n",
    "X = numeric_data[selected_columns]\n",
    "\n",
    "# Variável alvo\n",
    "y = data['label']\n",
    "\n",
    "# Divisão treino/teste\n",
    "X_train, X_test, y_train, y_test = train_test_split(\n",
    "    X, y, test_size=0.2, random_state=SEED\n",
    ")"
   ],
   "outputs": [],
   "execution_count": 2
  },
  {
   "cell_type": "markdown",
   "id": "3efab851",
   "metadata": {},
   "source": [
    "## Pipeline com Random Forest priorizando o Recall"
   ]
  },
  {
   "cell_type": "code",
   "id": "51f177ca",
   "metadata": {
    "ExecuteTime": {
     "end_time": "2025-05-19T18:39:17.755130Z",
     "start_time": "2025-05-19T18:38:40.188751Z"
    }
   },
   "source": [
    "# Pipeline com Random Forest\n",
    "rf_pipeline = Pipeline([\n",
    "    ('undersampler', RandomUnderSampler(sampling_strategy='auto', random_state=SEED)),\n",
    "    ('scaler', StandardScaler()),\n",
    "    ('clf', RandomForestClassifier(random_state=42))\n",
    "])\n",
    "\n",
    "# Grade de parâmetros para Random Forest\n",
    "rf_param_grid = {\n",
    "    'clf__n_estimators': [50, 100],\n",
    "    'clf__max_depth': [None, 5, 10, 15, 20],\n",
    "    'clf__min_samples_split': [2, 5],\n",
    "    'clf__min_samples_leaf': [1, 2]\n",
    "}\n",
    "\n",
    "rf_grid = GridSearchCV(rf_pipeline, rf_param_grid, scoring='recall', cv=5, n_jobs=-1)\n",
    "rf_grid.fit(X_train, y_train)\n",
    "\n",
    "# Avaliação\n",
    "print(\"Melhores parâmetros para Random Forest:\", rf_grid.best_params_)\n",
    "y_pred_rf = rf_grid.predict(X_test)\n",
    "print(classification_report(y_test, y_pred_rf))\n",
    "ConfusionMatrixDisplay.from_predictions(y_test, y_pred_rf, cmap=\"Blues\")\n",
    "plt.show()\n"
   ],
   "outputs": [
    {
     "name": "stdout",
     "output_type": "stream",
     "text": [
      "Melhores parâmetros para Random Forest: {'clf__max_depth': 20, 'clf__min_samples_leaf': 1, 'clf__min_samples_split': 5, 'clf__n_estimators': 100}\n",
      "              precision    recall  f1-score   support\n",
      "\n",
      "           0       0.90      0.74      0.81      5410\n",
      "           1       0.51      0.76      0.62      1925\n",
      "\n",
      "    accuracy                           0.75      7335\n",
      "   macro avg       0.71      0.75      0.71      7335\n",
      "weighted avg       0.80      0.75      0.76      7335\n",
      "\n"
     ]
    },
    {
     "data": {
      "text/plain": [
       "<Figure size 640x480 with 2 Axes>"
      ],
      "image/png": "[encoded data removed]"
     },
     "metadata": {},
     "output_type": "display_data"
    }
   ],
   "execution_count": 4
  }
 ],
 "metadata": {},
 "nbformat": 4,
 "nbformat_minor": 5
}
